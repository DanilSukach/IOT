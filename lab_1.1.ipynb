{
 "cells": [
  {
   "cell_type": "markdown",
   "metadata": {},
   "source": [
    "# Лабораторная работа №1\n",
    "\n",
    "**Требования:**\n",
    "* Python >= 3.X\n",
    "\n",
    "Лабораторную работу необходимо выполнять в данном шаблоне. Результатом работы будет являться файл (с измененным именем), который необходимо выложить в Moodle.\n",
    "\n",
    "**Важно!!!** Имя файлу задавайте по следующему шаблону **lab_1.1_Группа_ФамилияИО.ipynb**. Например: если Вас зовут Иванов Иван Иванович, и Вы обучаетесь в группе 6207_010302D, то имя файла будет выглядеть так **lab_1.1_6207_010302D_ИвановИИ.ipynb**.\n",
    "\n",
    "P.S. модулями (библиотеками) пользоваться запрещено!"
   ]
  },
  {
   "cell_type": "markdown",
   "metadata": {},
   "source": [
    "### Задача № 1\n",
    "\n",
    "Числа Фибоначчи - это такая последовательность, в которой первые два числа равны 0 и 1 соответствено, а каждый последующий член является суммой двух предыдущих членов.\n",
    "\n",
    "Начало последовательности выглядит следующим образом:\n",
    "\n",
    "| Индекс | Значение |\n",
    "| --- | --- |\n",
    "| 0 | 0 |\n",
    "| 1 | 1 |\n",
    "| 2 | 1 |\n",
    "| 3 | 2 |\n",
    "| 4 | 3 |\n",
    "| 5 | 5 |\n",
    "| 6 | 8 |\n",
    "| 7 | 13 |\n",
    "| 8 | 21 |\n",
    "| ... | ... |\n",
    "\n",
    "Более строго последовательность можно задать рекуррентным  соотношением:\n",
    "\n",
    "$$F_0 = 0,\\quad F_1 = 1,\\quad F_i = F_{i-1} + F_{i-2}.$$\n",
    "\n",
    "Напишите алгоритм генерации и вывода с n-го по k-й элементов данной числовой последовательности. Хранить элементы не надо, их необходимо только вывести (используйте `print(...)`).\n",
    "\n",
    "Пример вывода для `n = 2` и `k = 8`:\n",
    "\n",
    "`1`\n",
    "\n",
    "`2`\n",
    "\n",
    "`3`\n",
    "\n",
    "`5`\n",
    "\n",
    "`8`\n",
    "\n",
    "`13`\n",
    "\n",
    "`21`"
   ]
  },
  {
   "cell_type": "code",
   "execution_count": 121,
   "metadata": {},
   "outputs": [],
   "source": [
    "# Просто выполните данную ячейку. n и k уже заданы,\n",
    "# используйте их при постоении вашего алгоритма\n",
    "n = 2\n",
    "k = 8"
   ]
  },
  {
   "cell_type": "markdown",
   "metadata": {},
   "source": [
    "#### Решение"
   ]
  },
  {
   "cell_type": "code",
   "execution_count": 122,
   "metadata": {},
   "outputs": [
    {
     "name": "stdout",
     "output_type": "stream",
     "text": [
      "1\n",
      "2\n",
      "3\n",
      "5\n",
      "8\n",
      "13\n",
      "21\n"
     ]
    }
   ],
   "source": [
    "fib_1 = 0\n",
    "fib_2 = 1\n",
    "if n == 0:\n",
    "    print(fib_1)\n",
    "    n += 1\n",
    "for i in range(n-1):\n",
    "    fib_1, fib_2 = fib_2, fib_1 + fib_2\n",
    "for i in range(n,k+1):\n",
    "    fib_1, fib_2 = fib_2, fib_1 + fib_2\n",
    "    print(fib_1)"
   ]
  },
  {
   "cell_type": "markdown",
   "metadata": {},
   "source": [
    "### Задача № 2\n",
    "\n",
    "Скопируйте и модифицируйте код из первой задачи таким образом, чтобы четные (по значению) элементы при выводе были заменены на отрицательное значение квадрата их индекса.\n",
    "\n",
    "Аналогично первой задаче, каждый элемент должен быть выведен в отдельной строке.\n",
    "\n",
    "Пример вывода для `n = 2` и `k = 8`:\n",
    "\n",
    "`1`\n",
    "\n",
    "`-9`\n",
    "\n",
    "`3`\n",
    "\n",
    "`5`\n",
    "\n",
    "`-36`\n",
    "\n",
    "`13`\n",
    "\n",
    "`21`"
   ]
  },
  {
   "cell_type": "markdown",
   "metadata": {},
   "source": [
    "#### Решение"
   ]
  },
  {
   "cell_type": "code",
   "execution_count": 126,
   "metadata": {},
   "outputs": [
    {
     "name": "stdout",
     "output_type": "stream",
     "text": [
      "1\n",
      "-9\n",
      "3\n",
      "5\n",
      "-36\n",
      "13\n",
      "21\n"
     ]
    }
   ],
   "source": [
    "fib_1 = 0\n",
    "fib_2 = 1\n",
    "if n == 0:\n",
    "    print(fib_1)\n",
    "    n += 1\n",
    "for i in range(n-1):\n",
    "    fib_1, fib_2 = fib_2, fib_1 + fib_2\n",
    "for i in range(n,k+1):\n",
    "    fib_1, fib_2 = fib_2, fib_1 + fib_2\n",
    "    if not fib_1 % 2:\n",
    "        print(-i**2)\n",
    "    else:\n",
    "        print(fib_1)"
   ]
  },
  {
   "cell_type": "markdown",
   "metadata": {},
   "source": [
    "### Задача № 3\n",
    "\n",
    "Посчитайте сумму элементов полученной на предыдущем шаге последовательности (и снова копипаст алгоритма вам в помощь), найдите значение и индекс максимального и минимального элементов.\n",
    "\n",
    "Пример вывода для `n = 2` и `k = 8`:\n",
    "\n",
    "`Sum: -2`\n",
    "\n",
    "`Max: 21, Index: 8`\n",
    "\n",
    "`Min: -36, Index: 6`"
   ]
  },
  {
   "cell_type": "markdown",
   "metadata": {},
   "source": [
    "#### Решение"
   ]
  },
  {
   "cell_type": "code",
   "execution_count": 127,
   "metadata": {},
   "outputs": [
    {
     "name": "stdout",
     "output_type": "stream",
     "text": [
      "Sum:  -2\n",
      "Max:  21 , Index:  8\n",
      "Min:  -36 , Index:  6\n"
     ]
    }
   ],
   "source": [
    "fib_1 = 0\n",
    "fib_2 = 1\n",
    "sum = 0\n",
    "max = 0\n",
    "min = 0\n",
    "index_max = 0\n",
    "index_min = 0\n",
    "if n == 0:\n",
    "    n += 1\n",
    "for i in range(n-1):\n",
    "    fib_1, fib_2 = fib_2, fib_1 + fib_2\n",
    "for i in range(n,k+1):\n",
    "    fib_1, fib_2 = fib_2, fib_1 + fib_2\n",
    "    if not fib_1 % 2:\n",
    "        ind = -i**2\n",
    "        sum += ind\n",
    "        if ind > max:\n",
    "            max = ind\n",
    "            index_max = i\n",
    "        if ind < min:\n",
    "            min = ind\n",
    "            index_min = i\n",
    "    else:\n",
    "        sum += fib_1\n",
    "        if fib_1 > max:\n",
    "            max = fib_1\n",
    "            index_max = i\n",
    "        if fib_1 < min:\n",
    "            min = fib_1\n",
    "            index_min = i\n",
    "print (\"Sum: \",sum)\n",
    "print (\"Max: \",max,\", Index: \",index_max)\n",
    "print (\"Min: \",min,\", Index: \",index_min)"
   ]
  },
  {
   "cell_type": "markdown",
   "metadata": {},
   "source": [
    "### Задача № 4\n",
    "\n",
    "Скопируйте и модифицируйте код из первой задачи. Выведите только те элементы последовательности, у которых сумма цифр делится на 3 без остатка.\n",
    "\n",
    "Аналогично первой задаче, каждый элемент должен быть выведен в отдельной строке.\n",
    "\n",
    "Пример вывода для `n = 2` и `k = 8`:\n",
    "\n",
    "`3`\n",
    "\n",
    "`21`"
   ]
  },
  {
   "cell_type": "markdown",
   "metadata": {},
   "source": [
    "#### Решение"
   ]
  },
  {
   "cell_type": "code",
   "execution_count": 125,
   "metadata": {},
   "outputs": [
    {
     "name": "stdout",
     "output_type": "stream",
     "text": [
      "3\n",
      "21\n"
     ]
    }
   ],
   "source": [
    "fib_1 = 0\n",
    "fib_2 = 1\n",
    "if n == 0:\n",
    "    print(fib_1)\n",
    "    n += 1\n",
    "for i in range(n-1):\n",
    "    fib_1, fib_2 = fib_2, fib_1 + fib_2\n",
    "for i in range(n,k+1):\n",
    "    fib_1, fib_2 = fib_2, fib_1 + fib_2\n",
    "    num = fib_1\n",
    "    sum = 0\n",
    "    while (num != 0):\n",
    "        sum = sum + num % 10\n",
    "        num = num // 10\n",
    "    if ((sum % 3) == 0):\n",
    "        print(fib_1)"
   ]
  }
 ],
 "metadata": {
  "kernelspec": {
   "display_name": "Python 3.10.7 64-bit",
   "language": "python",
   "name": "python3"
  },
  "language_info": {
   "codemirror_mode": {
    "name": "ipython",
    "version": 3
   },
   "file_extension": ".py",
   "mimetype": "text/x-python",
   "name": "python",
   "nbconvert_exporter": "python",
   "pygments_lexer": "ipython3",
   "version": "3.10.7"
  },
  "vscode": {
   "interpreter": {
    "hash": "fb4569285eef3a3450cb62085a5b1e0da4bce0af555edc33dcf29baf3acc1368"
   }
  }
 },
 "nbformat": 4,
 "nbformat_minor": 4
}
